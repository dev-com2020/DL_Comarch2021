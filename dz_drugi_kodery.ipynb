{
  "nbformat": 4,
  "nbformat_minor": 0,
  "metadata": {
    "colab": {
      "name": "dz_drugi_kodery.ipynb",
      "provenance": []
    },
    "kernelspec": {
      "name": "python3",
      "display_name": "Python 3"
    },
    "language_info": {
      "name": "python"
    }
  },
  "cells": [
    {
      "cell_type": "code",
      "execution_count": 19,
      "metadata": {
        "id": "QUDdF8vo2WZ8"
      },
      "outputs": [],
      "source": [
        "from models.AE import Autoencoder\n",
        "import os\n",
        "from utils.loaders import load_mnist"
      ]
    },
    {
      "cell_type": "code",
      "source": [
        "SECTION = 'vae'\n",
        "RUN_ID = '0001'\n",
        "DATA_NAME = 'digits'\n",
        "RUN_FOLDER = 'run/{}/'.format(SECTION)\n",
        "RUN_FOLDER += '_'.join([RUN_ID,DATA_NAME])\n",
        "\n",
        "\n",
        "MODE = 'build'\n",
        "\n",
        "if not os.path.exists(RUN_FOLDER):\n",
        "    os.mkdir(RUN_FOLDER)\n",
        "    os.mkdir(os.path.join(RUN_FOLDER,'viz'))\n",
        "    os.mkdir(os.path.join(RUN_FOLDER,'images'))\n",
        "    os.mkdir(os.path.join(RUN_FOLDER,'weights'))\n",
        "\n"
      ],
      "metadata": {
        "id": "76-L3F9MHLaR"
      },
      "execution_count": 12,
      "outputs": []
    },
    {
      "cell_type": "code",
      "source": [
        "(x_train, y_train),(x_test,y_test) = load_mnist()"
      ],
      "metadata": {
        "id": "7VFgQiDlOCpz"
      },
      "execution_count": null,
      "outputs": []
    },
    {
      "cell_type": "code",
      "source": [
        "AE = Autoencoder(\n",
        "    input_dim = (28,28,1),\n",
        "    encoder_conv_filters= [32,64,64,64],\n",
        "    encoder_conv_kernel_size=[3,3,3,3],\n",
        "    encoder_conv_strides=[1,2,2,1],\n",
        "    decoder_conv_t_filters = [64,64,32,1],\n",
        "    decoder_conv_t_kernel_size = [3,3,3,3],\n",
        "    decoder_conv_t_strides = [1,2,2,1],\n",
        "    z_dim = 2\n",
        ")\n",
        "if MODE == 'build':\n",
        "    AE.save(RUN_FOLDER)\n",
        "else:\n",
        "    AE.load_weights(os.path.join(RUN_FOLDER,'weights/weigths.h5'))"
      ],
      "metadata": {
        "id": "w525Oc0UIlGT"
      },
      "execution_count": 11,
      "outputs": []
    },
    {
      "cell_type": "code",
      "source": [
        "AE.encoder.summary()"
      ],
      "metadata": {
        "id": "GoguqkSLKrbP"
      },
      "execution_count": null,
      "outputs": []
    },
    {
      "cell_type": "code",
      "source": [
        "AE.decoder.summary()"
      ],
      "metadata": {
        "id": "lb4vABxeLJ-B"
      },
      "execution_count": null,
      "outputs": []
    },
    {
      "cell_type": "code",
      "source": [
        "LEARNING_RATE = 0.0005\n",
        "BATCH_SIZE = 32\n",
        "INITIAL_EPOCH = 0"
      ],
      "metadata": {
        "id": "cTOqi7VuNZE5"
      },
      "execution_count": 15,
      "outputs": []
    },
    {
      "cell_type": "code",
      "source": [
        "AE.compile(LEARNING_RATE)"
      ],
      "metadata": {
        "id": "17DQi1XgNj4d"
      },
      "execution_count": null,
      "outputs": []
    },
    {
      "cell_type": "code",
      "source": [
        "AE.train(\n",
        "    x_train[:1000],\n",
        "    batch_size= BATCH_SIZE,\n",
        "    epochs= 200,\n",
        "    run_folder = RUN_FOLDER,\n",
        "    initial_epoch=INITIAL_EPOCH,\n",
        ")"
      ],
      "metadata": {
        "id": "Wnu3auz_Npdw"
      },
      "execution_count": null,
      "outputs": []
    }
  ]
}