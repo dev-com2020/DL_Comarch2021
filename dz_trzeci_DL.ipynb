{
  "nbformat": 4,
  "nbformat_minor": 0,
  "metadata": {
    "colab": {
      "name": "dz_trzeci_DL.ipynb",
      "provenance": []
    },
    "kernelspec": {
      "name": "python3",
      "display_name": "Python 3"
    },
    "language_info": {
      "name": "python"
    }
  },
  "cells": [
    {
      "cell_type": "code",
      "execution_count": null,
      "metadata": {
        "id": "fubut7ACly9T"
      },
      "outputs": [],
      "source": [
        "fig = plt.figure()\n",
        "plt.plot([x[0] for x in gan.d_losses], color='black', linewidth=0.25)\n",
        "\n",
        "plt.plot([x[1] for x in gan.d_losses], color='green', linewidth=0.25)\n",
        "plt.plot([x[2] for x in gan.d_losses], color='red', linewidth=0.25)\n",
        "plt.plot(gan.g_losses, color='orange', linewidth=0.25)\n",
        "\n",
        "plt.xlabel('batch', fontsize=18)\n",
        "plt.ylabel('loss', fontsize=16)\n",
        "\n",
        "# plt.xlim(0, 2000)\n",
        "# plt.ylim(0, 2)\n",
        "\n",
        "plt.show()"
      ]
    },
    {
      "cell_type": "code",
      "source": [
        "r, c = 5, 5\n",
        "\n",
        "idx = np.random.randint(0, x_train.shape[0], BATCH_SIZE)\n",
        "true_imgs = (x_train[idx] + 1) *0.5\n",
        "\n",
        "fig, axs = plt.subplots(r, c, figsize=(15,15))\n",
        "cnt = 0\n",
        "\n",
        "for i in range(r):\n",
        "    for j in range(c):\n",
        "        axs[i,j].imshow(true_imgs[cnt], cmap = 'gray_r')\n",
        "        axs[i,j].axis('off')\n",
        "        cnt += 1\n",
        "fig.savefig(os.path.join(RUN_FOLDER, \"images/real.png\"))\n",
        "plt.close()"
      ],
      "metadata": {
        "id": "8daqAWOwl4ZY"
      },
      "execution_count": null,
      "outputs": []
    },
    {
      "cell_type": "code",
      "source": [
        "r, c = 5, 5\n",
        "noise = np.random.normal(0, 1, (r * c, gan.z_dim))\n",
        "gen_imgs = gan.generator.predict(noise)\n",
        "\n",
        "#Rescale images 0 - 1\n",
        "\n",
        "gen_imgs = 0.5 * (gen_imgs + 1)\n",
        "# gen_imgs = np.clip(gen_imgs, 0, 1)\n",
        "\n",
        "fig, axs = plt.subplots(r, c, figsize=(15,15))\n",
        "cnt = 0\n",
        "\n",
        "for i in range(r):\n",
        "    for j in range(c):\n",
        "        axs[i,j].imshow(np.squeeze(gen_imgs[cnt, :,:,:]), cmap = 'gray_r')\n",
        "        axs[i,j].axis('off')\n",
        "        cnt += 1\n",
        "fig.savefig(os.path.join(RUN_FOLDER, \"images/sample.png\"))\n",
        "plt.close()\n",
        "\n",
        "\n",
        "fig, axs = plt.subplots(r, c, figsize=(15,15))\n",
        "cnt = 0\n",
        "\n",
        "for i in range(r):\n",
        "    for j in range(c):\n",
        "        c_diff = 99999\n",
        "        c_img = None\n",
        "        for k_idx, k in enumerate((x_train + 1) * 0.5):\n",
        "            \n",
        "            diff = compare_images(gen_imgs[cnt, :,:,:], k)\n",
        "            if diff < c_diff:\n",
        "                c_img = np.copy(k)\n",
        "                c_diff = diff\n",
        "        axs[i,j].imshow(c_img, cmap = 'gray_r')\n",
        "        axs[i,j].axis('off')\n",
        "        cnt += 1\n",
        "\n",
        "fig.savefig(os.path.join(RUN_FOLDER, \"images/sample_closest.png\"))\n",
        "plt.close()"
      ],
      "metadata": {
        "id": "Bzsa0jHhl87S"
      },
      "execution_count": null,
      "outputs": []
    }
  ]
}